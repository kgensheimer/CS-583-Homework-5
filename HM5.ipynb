{
  "nbformat": 4,
  "nbformat_minor": 0,
  "metadata": {
    "kernelspec": {
      "display_name": "Python 3",
      "language": "python",
      "name": "python3"
    },
    "language_info": {
      "codemirror_mode": {
        "name": "ipython",
        "version": 3
      },
      "file_extension": ".py",
      "mimetype": "text/x-python",
      "name": "python",
      "nbconvert_exporter": "python",
      "pygments_lexer": "ipython3",
      "version": "3.6.4"
    },
    "colab": {
      "name": "HM5.ipynb",
      "provenance": [],
      "toc_visible": true
    },
    "accelerator": "GPU"
  },
  "cells": [
    {
      "cell_type": "markdown",
      "metadata": {
        "id": "oniy8oqFg2n1"
      },
      "source": [
        "# Home 5: Build a seq2seq model for machine translation.\n",
        "\n",
        "### Name: Kyle Gensheimer\n",
        "\n",
        "### Task: Translate English to French"
      ]
    },
    {
      "cell_type": "markdown",
      "metadata": {
        "id": "1WYod0cPg2n4"
      },
      "source": [
        "## 0. You will do the following:\n",
        "\n",
        "1. Read and run my code.\n",
        "2. Complete the code in Section 1.1 and Section 4.2.\n",
        "\n",
        "    * Translation **English** to **German** is not acceptable!!! Try another pair of languages.\n",
        "    \n",
        "3. **Make improvements.** Directly modify the code in Section 3. Do at least one of the two. By doing both correctly, you will get up to 1 bonus score to the total.\n",
        "\n",
        "    * Bi-LSTM instead of LSTM.\n",
        "        \n",
        "    * Attention. (You are allowed to use existing code.)\n",
        "    \n",
        "4. Evaluate the translation using the BLEU score. \n",
        "\n",
        "    * Optional. Up to 1 bonus scores to the total.\n",
        "    \n",
        "5. Convert the notebook to .HTML file. \n",
        "\n",
        "    * The HTML file must contain the code and the output after execution.\n",
        "\n",
        "6. Put the .HTML file in your Google Drive, Dropbox, or Github repo.  (If you submit the file to Google Drive or Dropbox, you must make the file \"open-access\". The delay caused by \"deny of access\" may result in late penalty.)\n",
        "\n",
        "7. Submit the link to the HTML file to Canvas.    \n"
      ]
    },
    {
      "cell_type": "markdown",
      "metadata": {
        "id": "WMU6DP25g2n4"
      },
      "source": [
        "### Hint: \n",
        "\n",
        "To implement ```Bi-LSTM```, you will need the following code to build the encoder. Do NOT use Bi-LSTM for the decoder."
      ]
    },
    {
      "cell_type": "code",
      "metadata": {
        "id": "-Vgoqyheg2n5"
      },
      "source": [
        "from keras.layers import Bidirectional, Concatenate\n",
        "\n",
        "encoder_bilstm = Bidirectional(LSTM(latent_dim, return_state=True, \n",
        "                                  dropout=0.5, name='encoder_lstm'))\n",
        "_, forward_h, forward_c, backward_h, backward_c = encoder_bilstm(encoder_inputs)\n",
        "\n",
        "state_h = Concatenate()([forward_h, backward_h])\n",
        "state_c = Concatenate()([forward_c, backward_c])"
      ],
      "execution_count": null,
      "outputs": []
    },
    {
      "cell_type": "markdown",
      "metadata": {
        "id": "3LeS51wWg2n5"
      },
      "source": [
        "## 1. Data preparation\n",
        "\n",
        "1. Download data (e.g., \"deu-eng.zip\") from http://www.manythings.org/anki/\n",
        "2. Unzip the .ZIP file.\n",
        "3. Put the .TXT file (e.g., \"deu.txt\") in the directory \"./Data/\"."
      ]
    },
    {
      "cell_type": "markdown",
      "metadata": {
        "id": "fueabkxog2n6"
      },
      "source": [
        "### 1.1. Load and clean text\n"
      ]
    },
    {
      "cell_type": "code",
      "metadata": {
        "id": "yCPa_FXHg2n6"
      },
      "source": [
        "import re\n",
        "import string\n",
        "from unicodedata import normalize\n",
        "import numpy\n",
        "\n",
        "# load doc into memory\n",
        "def load_doc(filename):\n",
        "    # open the file as read only\n",
        "    file = open(filename, mode='rt', encoding='utf-8')\n",
        "    # read all text\n",
        "    text = file.read()\n",
        "    # close the file\n",
        "    file.close()\n",
        "    return text\n",
        "\n",
        "\n",
        "# split a loaded document into sentences\n",
        "def to_pairs(doc):\n",
        "    lines = doc.strip().split('\\n')\n",
        "    pairs = [line.split('\\t') for line in  lines]\n",
        "    return pairs\n",
        "\n",
        "def clean_data(lines):\n",
        "    cleaned = list()\n",
        "    # prepare regex for char filtering\n",
        "    re_print = re.compile('[^%s]' % re.escape(string.printable))\n",
        "    # prepare translation table for removing punctuation\n",
        "    table = str.maketrans('', '', string.punctuation)\n",
        "    for pair in lines:\n",
        "        clean_pair = list()\n",
        "        for line in pair:\n",
        "            # normalize unicode characters\n",
        "            line = normalize('NFD', line).encode('ascii', 'ignore')\n",
        "            line = line.decode('UTF-8')\n",
        "            # tokenize on white space\n",
        "            line = line.split()\n",
        "            # convert to lowercase\n",
        "            line = [word.lower() for word in line]\n",
        "            # remove punctuation from each token\n",
        "            line = [word.translate(table) for word in line]\n",
        "            # remove non-printable chars form each token\n",
        "            line = [re_print.sub('', w) for w in line]\n",
        "            # remove tokens with numbers in them\n",
        "            line = [word for word in line if word.isalpha()]\n",
        "            # store as string\n",
        "            clean_pair.append(' '.join(line))\n",
        "        cleaned.append(clean_pair)\n",
        "    return numpy.array(cleaned)"
      ],
      "execution_count": 1,
      "outputs": []
    },
    {
      "cell_type": "markdown",
      "metadata": {
        "id": "FNk3Bkwgg2n7"
      },
      "source": [
        "#### Fill the following blanks:"
      ]
    },
    {
      "cell_type": "code",
      "metadata": {
        "id": "8Zpja1qdg2n7"
      },
      "source": [
        "# e.g., filename = 'Data/deu.txt'\n",
        "filename = 'Data/fra.txt'\n",
        "\n",
        "# e.g., n_train = 20000\n",
        "n_train = 40000"
      ],
      "execution_count": 171,
      "outputs": []
    },
    {
      "cell_type": "code",
      "metadata": {
        "id": "CGxY7AlYg2n8"
      },
      "source": [
        "# load dataset\n",
        "doc = load_doc(filename)\n",
        "\n",
        "# split into Language1-Language2 pairs\n",
        "pairs = to_pairs(doc)\n",
        "\n",
        "# clean sentences\n",
        "clean_pairs = clean_data(pairs)[0:n_train, :]"
      ],
      "execution_count": 172,
      "outputs": []
    },
    {
      "cell_type": "code",
      "metadata": {
        "colab": {
          "base_uri": "https://localhost:8080/"
        },
        "id": "Z-aJOrqZg2n8",
        "outputId": "0d7b6e71-1ea4-48d1-f25f-70b8fcddc580"
      },
      "source": [
        "for i in range(3000, 3010):\n",
        "    print('[' + clean_pairs[i, 0] + '] => [' + clean_pairs[i, 1] + ']')"
      ],
      "execution_count": 173,
      "outputs": [
        {
          "output_type": "stream",
          "text": [
            "[i messed up] => [jai foire]\n",
            "[i messed up] => [jai degueulasse]\n",
            "[i messed up] => [jai sali]\n",
            "[i messed up] => [jai mis la pagaille]\n",
            "[i messed up] => [jai mis le souk]\n",
            "[i must hide] => [je dois me cacher]\n",
            "[i must obey] => [il me faut obeir]\n",
            "[i must obey] => [je dois obeir]\n",
            "[i nailed it] => [cest dans la poche]\n",
            "[i nailed it] => [je lai cloue]\n"
          ],
          "name": "stdout"
        }
      ]
    },
    {
      "cell_type": "code",
      "metadata": {
        "colab": {
          "base_uri": "https://localhost:8080/"
        },
        "id": "QtTwn_BUg2n8",
        "outputId": "6a2da374-f6df-42c1-df74-b5ba45b6d042"
      },
      "source": [
        "input_texts = clean_pairs[:, 0]\n",
        "target_texts = ['\\t' + text + '\\n' for text in clean_pairs[:, 1]]\n",
        "\n",
        "print('Length of input_texts:  ' + str(input_texts.shape))\n",
        "print('Length of target_texts: ' + str(input_texts.shape))"
      ],
      "execution_count": 174,
      "outputs": [
        {
          "output_type": "stream",
          "text": [
            "Length of input_texts:  (40000,)\n",
            "Length of target_texts: (40000,)\n"
          ],
          "name": "stdout"
        }
      ]
    },
    {
      "cell_type": "code",
      "metadata": {
        "colab": {
          "base_uri": "https://localhost:8080/"
        },
        "id": "1BBNxE-ag2n9",
        "outputId": "04fc881b-ca3b-46e1-93ba-7055f9b72050"
      },
      "source": [
        "max_encoder_seq_length = max(len(line) for line in input_texts)\n",
        "max_decoder_seq_length = max(len(line) for line in target_texts)\n",
        "\n",
        "print('max length of input  sentences: %d' % (max_encoder_seq_length))\n",
        "print('max length of target sentences: %d' % (max_decoder_seq_length))"
      ],
      "execution_count": 175,
      "outputs": [
        {
          "output_type": "stream",
          "text": [
            "max length of input  sentences: 20\n",
            "max length of target sentences: 63\n"
          ],
          "name": "stdout"
        }
      ]
    },
    {
      "cell_type": "markdown",
      "metadata": {
        "id": "BkkvTehHg2n9"
      },
      "source": [
        "**Remark:** To this end, you have two lists of sentences: input_texts and target_texts"
      ]
    },
    {
      "cell_type": "markdown",
      "metadata": {
        "id": "jFdFf6N8g2n9"
      },
      "source": [
        "## 2. Text processing\n",
        "\n",
        "### 2.1. Convert texts to sequences\n",
        "\n",
        "- Input: A list of $n$ sentences (with max length $t$).\n",
        "- It is represented by a $n\\times t$ matrix after the tokenization and zero-padding."
      ]
    },
    {
      "cell_type": "code",
      "metadata": {
        "colab": {
          "base_uri": "https://localhost:8080/"
        },
        "id": "dPaAih9ig2n-",
        "outputId": "2159e205-165f-4917-b290-013b8022dd5a"
      },
      "source": [
        "from keras.preprocessing.text import Tokenizer\n",
        "from keras.preprocessing.sequence import pad_sequences\n",
        "\n",
        "# encode and pad sequences\n",
        "def text2sequences(max_len, lines):\n",
        "    tokenizer = Tokenizer(char_level=True, filters='')\n",
        "    tokenizer.fit_on_texts(lines)\n",
        "    seqs = tokenizer.texts_to_sequences(lines)\n",
        "    seqs_pad = pad_sequences(seqs, maxlen=max_len, padding='post')\n",
        "    return seqs_pad, tokenizer.word_index\n",
        "\n",
        "\n",
        "encoder_input_seq, input_token_index = text2sequences(max_encoder_seq_length, \n",
        "                                                      input_texts)\n",
        "decoder_input_seq, target_token_index = text2sequences(max_decoder_seq_length, \n",
        "                                                       target_texts)\n",
        "\n",
        "print('shape of encoder_input_seq: ' + str(encoder_input_seq.shape))\n",
        "print('shape of input_token_index: ' + str(len(input_token_index)))\n",
        "print('shape of decoder_input_seq: ' + str(decoder_input_seq.shape))\n",
        "print('shape of target_token_index: ' + str(len(target_token_index)))"
      ],
      "execution_count": 176,
      "outputs": [
        {
          "output_type": "stream",
          "text": [
            "shape of encoder_input_seq: (40000, 20)\n",
            "shape of input_token_index: 27\n",
            "shape of decoder_input_seq: (40000, 63)\n",
            "shape of target_token_index: 29\n"
          ],
          "name": "stdout"
        }
      ]
    },
    {
      "cell_type": "code",
      "metadata": {
        "colab": {
          "base_uri": "https://localhost:8080/"
        },
        "id": "-Aicf-x6g2n-",
        "outputId": "ea130196-7d35-49bd-ddff-225112c1c801"
      },
      "source": [
        "num_encoder_tokens = len(input_token_index) + 1\n",
        "num_decoder_tokens = len(target_token_index) + 1\n",
        "\n",
        "print('num_encoder_tokens: ' + str(num_encoder_tokens))\n",
        "print('num_decoder_tokens: ' + str(num_decoder_tokens))"
      ],
      "execution_count": 177,
      "outputs": [
        {
          "output_type": "stream",
          "text": [
            "num_encoder_tokens: 28\n",
            "num_decoder_tokens: 30\n"
          ],
          "name": "stdout"
        }
      ]
    },
    {
      "cell_type": "markdown",
      "metadata": {
        "id": "UrwTMIxog2n-"
      },
      "source": [
        "**Remark:** To this end, the input language and target language texts are converted to 2 matrices. \n",
        "\n",
        "- Their number of rows are both n_train.\n",
        "- Their number of columns are respective max_encoder_seq_length and max_decoder_seq_length."
      ]
    },
    {
      "cell_type": "markdown",
      "metadata": {
        "id": "bTzcKkOLg2n_"
      },
      "source": [
        "The followings print a sentence and its representation as a sequence."
      ]
    },
    {
      "cell_type": "code",
      "metadata": {
        "colab": {
          "base_uri": "https://localhost:8080/",
          "height": 37
        },
        "id": "M6WpZ76Sg2n_",
        "outputId": "dc6d6669-bd2a-4dde-9b4f-2ad2323491d8"
      },
      "source": [
        "target_texts[100]"
      ],
      "execution_count": 178,
      "outputs": [
        {
          "output_type": "execute_result",
          "data": {
            "application/vnd.google.colaboratory.intrinsic+json": {
              "type": "string"
            },
            "text/plain": [
              "'\\tje payai\\n'"
            ]
          },
          "metadata": {
            "tags": []
          },
          "execution_count": 178
        }
      ]
    },
    {
      "cell_type": "code",
      "metadata": {
        "colab": {
          "base_uri": "https://localhost:8080/"
        },
        "id": "0ra-qyAGg2n_",
        "outputId": "547ea654-7614-4c5f-e71e-1544a3265888"
      },
      "source": [
        "decoder_input_seq[100, :]"
      ],
      "execution_count": 179,
      "outputs": [
        {
          "output_type": "execute_result",
          "data": {
            "text/plain": [
              "array([10, 19,  1,  2, 16,  4, 27,  4,  6, 11,  0,  0,  0,  0,  0,  0,  0,\n",
              "        0,  0,  0,  0,  0,  0,  0,  0,  0,  0,  0,  0,  0,  0,  0,  0,  0,\n",
              "        0,  0,  0,  0,  0,  0,  0,  0,  0,  0,  0,  0,  0,  0,  0,  0,  0,\n",
              "        0,  0,  0,  0,  0,  0,  0,  0,  0,  0,  0,  0], dtype=int32)"
            ]
          },
          "metadata": {
            "tags": []
          },
          "execution_count": 179
        }
      ]
    },
    {
      "cell_type": "markdown",
      "metadata": {
        "id": "HRNNYiC6g2n_"
      },
      "source": [
        "## 2.2. One-hot encode\n",
        "\n",
        "- Input: A list of $n$ sentences (with max length $t$).\n",
        "- It is represented by a $n\\times t$ matrix after the tokenization and zero-padding.\n",
        "- It is represented by a $n\\times t \\times v$ tensor ($t$ is the number of unique chars) after the one-hot encoding."
      ]
    },
    {
      "cell_type": "code",
      "metadata": {
        "colab": {
          "base_uri": "https://localhost:8080/"
        },
        "id": "jBeCp4tcg2oA",
        "outputId": "a57fddf3-2578-4bf6-ceba-e98c2cf68140"
      },
      "source": [
        "from keras.utils import to_categorical\n",
        "\n",
        "# one hot encode target sequence\n",
        "def onehot_encode(sequences, max_len, vocab_size):\n",
        "    n = len(sequences)\n",
        "    data = numpy.zeros((n, max_len, vocab_size))\n",
        "    for i in range(n):\n",
        "        data[i, :, :] = to_categorical(sequences[i], num_classes=vocab_size)\n",
        "    return data\n",
        "\n",
        "encoder_input_data = onehot_encode(encoder_input_seq, max_encoder_seq_length, num_encoder_tokens)\n",
        "decoder_input_data = onehot_encode(decoder_input_seq, max_decoder_seq_length, num_decoder_tokens)\n",
        "\n",
        "decoder_target_seq = numpy.zeros(decoder_input_seq.shape)\n",
        "decoder_target_seq[:, 0:-1] = decoder_input_seq[:, 1:]\n",
        "decoder_target_data = onehot_encode(decoder_target_seq, \n",
        "                                    max_decoder_seq_length, \n",
        "                                    num_decoder_tokens)\n",
        "\n",
        "print(encoder_input_data.shape)\n",
        "print(decoder_input_data.shape)"
      ],
      "execution_count": 180,
      "outputs": [
        {
          "output_type": "stream",
          "text": [
            "(40000, 20, 28)\n",
            "(40000, 63, 30)\n"
          ],
          "name": "stdout"
        }
      ]
    },
    {
      "cell_type": "markdown",
      "metadata": {
        "id": "FD7KQZDQg2oA"
      },
      "source": [
        "## 3. Build the networks (for training)\n",
        "\n",
        "- Build encoder, decoder, and connect the two modules to get \"model\". \n",
        "\n",
        "- Fit the model on the bilingual data to train the parameters in the encoder and decoder."
      ]
    },
    {
      "cell_type": "markdown",
      "metadata": {
        "id": "WMca6W9Wg2oA"
      },
      "source": [
        "### 3.1. Encoder network\n",
        "\n",
        "- Input:  one-hot encode of the input language\n",
        "\n",
        "- Return: \n",
        "\n",
        "    -- output (all the hidden states   $h_1, \\cdots , h_t$) are always discarded\n",
        "    \n",
        "    -- the final hidden state  $h_t$\n",
        "    \n",
        "    -- the final conveyor belt $c_t$"
      ]
    },
    {
      "cell_type": "code",
      "metadata": {
        "id": "p2kwH7WGg2oB"
      },
      "source": [
        "from keras.layers import Input, LSTM, Bidirectional, Concatenate\n",
        "from keras.models import Model\n",
        "\n",
        "latent_dim = 256\n",
        "\n",
        "# inputs of the encoder network\n",
        "encoder_inputs = Input(shape=(None, num_encoder_tokens), \n",
        "                       name='encoder_inputs')\n",
        "\n",
        "# set the LSTM layer\n",
        "# encoder_lstm = LSTM(latent_dim, return_state=True, \n",
        "#                     dropout=0.5, name='encoder_lstm')\n",
        "# _, state_h, state_c = encoder_lstm(encoder_inputs)\n",
        "\n",
        "# set the Bi-LSTM layer\n",
        "encoder_bilstm = Bidirectional(LSTM(latent_dim, return_state=True, \n",
        "                                  dropout=0.5, name='encoder_lstm'))\n",
        "_, forward_h, forward_c, backward_h, backward_c = encoder_bilstm(encoder_inputs)\n",
        "\n",
        "state_h = Concatenate()([forward_h, backward_h])\n",
        "state_c = Concatenate()([forward_c, backward_c])\n",
        "\n",
        "# build the encoder network model\n",
        "encoder_model = Model(inputs=encoder_inputs, \n",
        "                      outputs=[state_h, state_c],\n",
        "                      name='encoder')"
      ],
      "execution_count": 181,
      "outputs": []
    },
    {
      "cell_type": "markdown",
      "metadata": {
        "id": "OT03fE1gg2oB"
      },
      "source": [
        "Print a summary and save the encoder network structure to \"./encoder.pdf\""
      ]
    },
    {
      "cell_type": "code",
      "metadata": {
        "colab": {
          "base_uri": "https://localhost:8080/"
        },
        "id": "OPrIowA3g2oC",
        "outputId": "c272c8b3-09b2-4b81-f1cc-e13267014fae"
      },
      "source": [
        "from IPython.display import SVG\n",
        "from keras.utils.vis_utils import model_to_dot, plot_model\n",
        "\n",
        "SVG(model_to_dot(encoder_model, show_shapes=False).create(prog='dot', format='svg'))\n",
        "\n",
        "plot_model(\n",
        "    model=encoder_model, show_shapes=False,\n",
        "    to_file='encoder.pdf'\n",
        ")\n",
        "\n",
        "encoder_model.summary()"
      ],
      "execution_count": 182,
      "outputs": [
        {
          "output_type": "stream",
          "text": [
            "Model: \"encoder\"\n",
            "__________________________________________________________________________________________________\n",
            "Layer (type)                    Output Shape         Param #     Connected to                     \n",
            "==================================================================================================\n",
            "encoder_inputs (InputLayer)     [(None, None, 28)]   0                                            \n",
            "__________________________________________________________________________________________________\n",
            "bidirectional_12 (Bidirectional [(None, 512), (None, 583680      encoder_inputs[0][0]             \n",
            "__________________________________________________________________________________________________\n",
            "concatenate_24 (Concatenate)    (None, 512)          0           bidirectional_12[0][1]           \n",
            "                                                                 bidirectional_12[0][3]           \n",
            "__________________________________________________________________________________________________\n",
            "concatenate_25 (Concatenate)    (None, 512)          0           bidirectional_12[0][2]           \n",
            "                                                                 bidirectional_12[0][4]           \n",
            "==================================================================================================\n",
            "Total params: 583,680\n",
            "Trainable params: 583,680\n",
            "Non-trainable params: 0\n",
            "__________________________________________________________________________________________________\n"
          ],
          "name": "stdout"
        }
      ]
    },
    {
      "cell_type": "markdown",
      "metadata": {
        "id": "TlM6D9Sog2oC"
      },
      "source": [
        "### 3.2. Decoder network\n",
        "\n",
        "- Inputs:  \n",
        "\n",
        "    -- one-hot encode of the target language\n",
        "    \n",
        "    -- The initial hidden state $h_t$ \n",
        "    \n",
        "    -- The initial conveyor belt $c_t$ \n",
        "\n",
        "- Return: \n",
        "\n",
        "    -- output (all the hidden states) $h_1, \\cdots , h_t$\n",
        "\n",
        "    -- the final hidden state  $h_t$ (discarded in the training and used in the prediction)\n",
        "    \n",
        "    -- the final conveyor belt $c_t$ (discarded in the training and used in the prediction)"
      ]
    },
    {
      "cell_type": "code",
      "metadata": {
        "id": "9OKlX0UBg2oC"
      },
      "source": [
        "from keras.layers import Input, LSTM, Dense\n",
        "from keras.models import Model\n",
        "\n",
        "latent_dim = 256 * 2\n",
        "\n",
        "\n",
        "# inputs of the decoder network\n",
        "decoder_input_h = Input(shape=(latent_dim,), name='decoder_input_h')\n",
        "decoder_input_c = Input(shape=(latent_dim,), name='decoder_input_c')\n",
        "decoder_input_x = Input(shape=(None, num_decoder_tokens), name='decoder_input_x')\n",
        "\n",
        "# set the LSTM layer\n",
        "decoder_lstm = LSTM(latent_dim, return_sequences=True, \n",
        "                    return_state=True, dropout=0.5, name='decoder_lstm')\n",
        "decoder_lstm_outputs, state_h, state_c = decoder_lstm(decoder_input_x, \n",
        "                                                      initial_state=[decoder_input_h, decoder_input_c])\n",
        "\n",
        "# set the dense layer\n",
        "decoder_dense = Dense(num_decoder_tokens, activation='softmax', name='decoder_dense')\n",
        "decoder_outputs = decoder_dense(decoder_lstm_outputs)\n",
        "\n",
        "# build the decoder network model\n",
        "decoder_model = Model(inputs=[decoder_input_x, decoder_input_h, decoder_input_c],\n",
        "                      outputs=[decoder_outputs, state_h, state_c],\n",
        "                      name='decoder')"
      ],
      "execution_count": 183,
      "outputs": []
    },
    {
      "cell_type": "markdown",
      "metadata": {
        "id": "vcIfGcJ0g2oD"
      },
      "source": [
        "Print a summary and save the encoder network structure to \"./decoder.pdf\""
      ]
    },
    {
      "cell_type": "code",
      "metadata": {
        "colab": {
          "base_uri": "https://localhost:8080/"
        },
        "id": "pwK5pzFig2oD",
        "outputId": "303d5e86-8dea-43b8-b730-2460ee1a4125"
      },
      "source": [
        "from IPython.display import SVG\n",
        "from keras.utils.vis_utils import model_to_dot, plot_model\n",
        "\n",
        "SVG(model_to_dot(decoder_model, show_shapes=False).create(prog='dot', format='svg'))\n",
        "\n",
        "plot_model(\n",
        "    model=decoder_model, show_shapes=False,\n",
        "    to_file='decoder.pdf'\n",
        ")\n",
        "\n",
        "decoder_model.summary()"
      ],
      "execution_count": 184,
      "outputs": [
        {
          "output_type": "stream",
          "text": [
            "Model: \"decoder\"\n",
            "__________________________________________________________________________________________________\n",
            "Layer (type)                    Output Shape         Param #     Connected to                     \n",
            "==================================================================================================\n",
            "decoder_input_x (InputLayer)    [(None, None, 30)]   0                                            \n",
            "__________________________________________________________________________________________________\n",
            "decoder_input_h (InputLayer)    [(None, 512)]        0                                            \n",
            "__________________________________________________________________________________________________\n",
            "decoder_input_c (InputLayer)    [(None, 512)]        0                                            \n",
            "__________________________________________________________________________________________________\n",
            "decoder_lstm (LSTM)             [(None, None, 512),  1112064     decoder_input_x[0][0]            \n",
            "                                                                 decoder_input_h[0][0]            \n",
            "                                                                 decoder_input_c[0][0]            \n",
            "__________________________________________________________________________________________________\n",
            "decoder_dense (Dense)           (None, None, 30)     15390       decoder_lstm[0][0]               \n",
            "==================================================================================================\n",
            "Total params: 1,127,454\n",
            "Trainable params: 1,127,454\n",
            "Non-trainable params: 0\n",
            "__________________________________________________________________________________________________\n"
          ],
          "name": "stdout"
        }
      ]
    },
    {
      "cell_type": "markdown",
      "metadata": {
        "id": "7DiAJiXOg2oD"
      },
      "source": [
        "### 3.3. Connect the encoder and decoder"
      ]
    },
    {
      "cell_type": "code",
      "metadata": {
        "id": "eA7qGUt_g2oE"
      },
      "source": [
        "# input layers\n",
        "encoder_input_x = Input(shape=(None, num_encoder_tokens), name='encoder_input_x')\n",
        "decoder_input_x = Input(shape=(None, num_decoder_tokens), name='decoder_input_x')\n",
        "\n",
        "# connect encoder to decoder\n",
        "encoder_final_states = encoder_model([encoder_input_x])\n",
        "decoder_lstm_output, _, _ = decoder_lstm(decoder_input_x, initial_state=encoder_final_states)\n",
        "decoder_pred = decoder_dense(decoder_lstm_output)\n",
        "\n",
        "model = Model(inputs=[encoder_input_x, decoder_input_x], \n",
        "              outputs=decoder_pred, \n",
        "              name='model_training')"
      ],
      "execution_count": 185,
      "outputs": []
    },
    {
      "cell_type": "code",
      "metadata": {
        "colab": {
          "base_uri": "https://localhost:8080/"
        },
        "id": "aRwzcnxmg2oE",
        "outputId": "0891b711-ea37-4850-fcea-53335ed53a36"
      },
      "source": [
        "print(state_h)\n",
        "print(decoder_input_h)"
      ],
      "execution_count": 186,
      "outputs": [
        {
          "output_type": "stream",
          "text": [
            "KerasTensor(type_spec=TensorSpec(shape=(None, 512), dtype=tf.float32, name=None), name='decoder_lstm/PartitionedCall:2', description=\"created by layer 'decoder_lstm'\")\n",
            "KerasTensor(type_spec=TensorSpec(shape=(None, 512), dtype=tf.float32, name='decoder_input_h'), name='decoder_input_h', description=\"created by layer 'decoder_input_h'\")\n"
          ],
          "name": "stdout"
        }
      ]
    },
    {
      "cell_type": "code",
      "metadata": {
        "colab": {
          "base_uri": "https://localhost:8080/"
        },
        "id": "9BVJKWxyg2oG",
        "outputId": "fe68f7db-4d07-4b04-d6e6-5dee0b08c59f"
      },
      "source": [
        "from IPython.display import SVG\n",
        "from keras.utils.vis_utils import model_to_dot, plot_model\n",
        "\n",
        "SVG(model_to_dot(model, show_shapes=False).create(prog='dot', format='svg'))\n",
        "\n",
        "plot_model(\n",
        "    model=model, show_shapes=False,\n",
        "    to_file='model_training.pdf'\n",
        ")\n",
        "\n",
        "model.summary()"
      ],
      "execution_count": 187,
      "outputs": [
        {
          "output_type": "stream",
          "text": [
            "Model: \"model_training\"\n",
            "__________________________________________________________________________________________________\n",
            "Layer (type)                    Output Shape         Param #     Connected to                     \n",
            "==================================================================================================\n",
            "encoder_input_x (InputLayer)    [(None, None, 28)]   0                                            \n",
            "__________________________________________________________________________________________________\n",
            "decoder_input_x (InputLayer)    [(None, None, 30)]   0                                            \n",
            "__________________________________________________________________________________________________\n",
            "encoder (Functional)            [(None, 512), (None, 583680      encoder_input_x[0][0]            \n",
            "__________________________________________________________________________________________________\n",
            "decoder_lstm (LSTM)             [(None, None, 512),  1112064     decoder_input_x[0][0]            \n",
            "                                                                 encoder[0][0]                    \n",
            "                                                                 encoder[0][1]                    \n",
            "__________________________________________________________________________________________________\n",
            "decoder_dense (Dense)           (None, None, 30)     15390       decoder_lstm[1][0]               \n",
            "==================================================================================================\n",
            "Total params: 1,711,134\n",
            "Trainable params: 1,711,134\n",
            "Non-trainable params: 0\n",
            "__________________________________________________________________________________________________\n"
          ],
          "name": "stdout"
        }
      ]
    },
    {
      "cell_type": "markdown",
      "metadata": {
        "id": "Weg-aZFvg2oH"
      },
      "source": [
        "### 3.5. Fit the model on the bilingual dataset\n",
        "\n",
        "- encoder_input_data: one-hot encode of the input language\n",
        "\n",
        "- decoder_input_data: one-hot encode of the input language\n",
        "\n",
        "- decoder_target_data: labels (left shift of decoder_input_data)\n",
        "\n",
        "- tune the hyper-parameters\n",
        "\n",
        "- stop when the validation loss stop decreasing."
      ]
    },
    {
      "cell_type": "code",
      "metadata": {
        "colab": {
          "base_uri": "https://localhost:8080/"
        },
        "id": "kru1RN09g2oI",
        "outputId": "58b9f8ad-1516-4d4f-9675-b7e70a0f0d1a"
      },
      "source": [
        "print('shape of encoder_input_data' + str(encoder_input_data.shape))\n",
        "print('shape of decoder_input_data' + str(decoder_input_data.shape))\n",
        "print('shape of decoder_target_data' + str(decoder_target_data.shape))"
      ],
      "execution_count": 188,
      "outputs": [
        {
          "output_type": "stream",
          "text": [
            "shape of encoder_input_data(40000, 20, 28)\n",
            "shape of decoder_input_data(40000, 63, 30)\n",
            "shape of decoder_target_data(40000, 63, 30)\n"
          ],
          "name": "stdout"
        }
      ]
    },
    {
      "cell_type": "code",
      "metadata": {
        "colab": {
          "base_uri": "https://localhost:8080/"
        },
        "id": "X3i2TvAng2oI",
        "outputId": "2b8d50d8-a82f-4d23-dd12-94e9619e1236"
      },
      "source": [
        "model.compile(optimizer='rmsprop', loss='categorical_crossentropy')\n",
        "\n",
        "model.fit([encoder_input_data, decoder_input_data],  # training data\n",
        "          decoder_target_data,                       # labels (left shift of the target sequences)\n",
        "          batch_size=64, epochs=50, validation_split=0.2)\n",
        "\n",
        "model.save('seq2seq.h5')"
      ],
      "execution_count": 189,
      "outputs": [
        {
          "output_type": "stream",
          "text": [
            "Epoch 1/50\n",
            "500/500 [==============================] - 15s 23ms/step - loss: 1.0805 - val_loss: 0.7635\n",
            "Epoch 2/50\n",
            "500/500 [==============================] - 10s 21ms/step - loss: 0.6859 - val_loss: 0.6659\n",
            "Epoch 3/50\n",
            "500/500 [==============================] - 10s 21ms/step - loss: 0.6256 - val_loss: 0.6052\n",
            "Epoch 4/50\n",
            "500/500 [==============================] - 10s 21ms/step - loss: 0.5893 - val_loss: 0.5690\n",
            "Epoch 5/50\n",
            "500/500 [==============================] - 10s 21ms/step - loss: 0.5651 - val_loss: 0.5408\n",
            "Epoch 6/50\n",
            "500/500 [==============================] - 10s 21ms/step - loss: 0.5465 - val_loss: 0.5216\n",
            "Epoch 7/50\n",
            "500/500 [==============================] - 10s 21ms/step - loss: 0.5291 - val_loss: 0.5075\n",
            "Epoch 8/50\n",
            "500/500 [==============================] - 10s 21ms/step - loss: 0.5197 - val_loss: 0.4900\n",
            "Epoch 9/50\n",
            "500/500 [==============================] - 10s 21ms/step - loss: 0.5067 - val_loss: 0.4800\n",
            "Epoch 10/50\n",
            "500/500 [==============================] - 10s 21ms/step - loss: 0.4974 - val_loss: 0.4731\n",
            "Epoch 11/50\n",
            "500/500 [==============================] - 10s 21ms/step - loss: 0.4854 - val_loss: 0.4657\n",
            "Epoch 12/50\n",
            "500/500 [==============================] - 10s 21ms/step - loss: 0.4775 - val_loss: 0.4537\n",
            "Epoch 13/50\n",
            "500/500 [==============================] - 10s 21ms/step - loss: 0.4727 - val_loss: 0.4499\n",
            "Epoch 14/50\n",
            "500/500 [==============================] - 10s 21ms/step - loss: 0.4639 - val_loss: 0.4438\n",
            "Epoch 15/50\n",
            "500/500 [==============================] - 10s 21ms/step - loss: 0.4589 - val_loss: 0.4432\n",
            "Epoch 16/50\n",
            "500/500 [==============================] - 10s 21ms/step - loss: 0.4530 - val_loss: 0.4372\n",
            "Epoch 17/50\n",
            "500/500 [==============================] - 10s 21ms/step - loss: 0.4493 - val_loss: 0.4322\n",
            "Epoch 18/50\n",
            "500/500 [==============================] - 10s 21ms/step - loss: 0.4451 - val_loss: 0.4308\n",
            "Epoch 19/50\n",
            "500/500 [==============================] - 10s 21ms/step - loss: 0.4391 - val_loss: 0.4263\n",
            "Epoch 20/50\n",
            "500/500 [==============================] - 10s 21ms/step - loss: 0.4348 - val_loss: 0.4225\n",
            "Epoch 21/50\n",
            "500/500 [==============================] - 10s 21ms/step - loss: 0.4313 - val_loss: 0.4201\n",
            "Epoch 22/50\n",
            "500/500 [==============================] - 10s 21ms/step - loss: 0.4270 - val_loss: 0.4167\n",
            "Epoch 23/50\n",
            "500/500 [==============================] - 10s 21ms/step - loss: 0.4250 - val_loss: 0.4157\n",
            "Epoch 24/50\n",
            "500/500 [==============================] - 11s 21ms/step - loss: 0.4220 - val_loss: 0.4167\n",
            "Epoch 25/50\n",
            "500/500 [==============================] - 10s 21ms/step - loss: 0.4163 - val_loss: 0.4131\n",
            "Epoch 26/50\n",
            "500/500 [==============================] - 10s 21ms/step - loss: 0.4172 - val_loss: 0.4086\n",
            "Epoch 27/50\n",
            "500/500 [==============================] - 10s 21ms/step - loss: 0.4110 - val_loss: 0.4066\n",
            "Epoch 28/50\n",
            "500/500 [==============================] - 10s 21ms/step - loss: 0.4105 - val_loss: 0.4057\n",
            "Epoch 29/50\n",
            "500/500 [==============================] - 10s 21ms/step - loss: 0.4038 - val_loss: 0.4045\n",
            "Epoch 30/50\n",
            "500/500 [==============================] - 10s 21ms/step - loss: 0.3992 - val_loss: 0.4019\n",
            "Epoch 31/50\n",
            "500/500 [==============================] - 10s 21ms/step - loss: 0.4017 - val_loss: 0.4019\n",
            "Epoch 32/50\n",
            "500/500 [==============================] - 10s 21ms/step - loss: 0.3977 - val_loss: 0.4051\n",
            "Epoch 33/50\n",
            "500/500 [==============================] - 10s 21ms/step - loss: 0.3950 - val_loss: 0.3996\n",
            "Epoch 34/50\n",
            "500/500 [==============================] - 10s 21ms/step - loss: 0.3942 - val_loss: 0.4018\n",
            "Epoch 35/50\n",
            "500/500 [==============================] - 10s 21ms/step - loss: 0.3932 - val_loss: 0.3997\n",
            "Epoch 36/50\n",
            "500/500 [==============================] - 10s 21ms/step - loss: 0.3920 - val_loss: 0.3992\n",
            "Epoch 37/50\n",
            "500/500 [==============================] - 10s 21ms/step - loss: 0.3880 - val_loss: 0.3981\n",
            "Epoch 38/50\n",
            "500/500 [==============================] - 10s 21ms/step - loss: 0.3889 - val_loss: 0.3953\n",
            "Epoch 39/50\n",
            "500/500 [==============================] - 10s 21ms/step - loss: 0.3860 - val_loss: 0.3957\n",
            "Epoch 40/50\n",
            "500/500 [==============================] - 10s 21ms/step - loss: 0.3821 - val_loss: 0.3946\n",
            "Epoch 41/50\n",
            "500/500 [==============================] - 10s 21ms/step - loss: 0.3824 - val_loss: 0.3959\n",
            "Epoch 42/50\n",
            "500/500 [==============================] - 10s 21ms/step - loss: 0.3799 - val_loss: 0.3939\n",
            "Epoch 43/50\n",
            "500/500 [==============================] - 10s 21ms/step - loss: 0.3786 - val_loss: 0.3940\n",
            "Epoch 44/50\n",
            "500/500 [==============================] - 10s 21ms/step - loss: 0.3769 - val_loss: 0.3976\n",
            "Epoch 45/50\n",
            "500/500 [==============================] - 10s 21ms/step - loss: 0.3714 - val_loss: 0.3922\n",
            "Epoch 46/50\n",
            "500/500 [==============================] - 10s 21ms/step - loss: 0.3738 - val_loss: 0.3907\n",
            "Epoch 47/50\n",
            "500/500 [==============================] - 10s 21ms/step - loss: 0.3697 - val_loss: 0.3928\n",
            "Epoch 48/50\n",
            "500/500 [==============================] - 10s 21ms/step - loss: 0.3680 - val_loss: 0.3917\n",
            "Epoch 49/50\n",
            "500/500 [==============================] - 10s 21ms/step - loss: 0.3676 - val_loss: 0.3910\n",
            "Epoch 50/50\n",
            "500/500 [==============================] - 10s 21ms/step - loss: 0.3654 - val_loss: 0.3918\n"
          ],
          "name": "stdout"
        }
      ]
    },
    {
      "cell_type": "markdown",
      "metadata": {
        "id": "4IOgYTfZg2oI"
      },
      "source": [
        "## 4. Make predictions\n",
        "\n",
        "\n",
        "### 4.1. Translate English to French\n",
        "\n",
        "1. Encoder read a sentence (source language) and output its final states, $h_t$ and $c_t$.\n",
        "2. Take the [star] sign \"\\t\" and the final state $h_t$ and $c_t$ as input and run the decoder.\n",
        "3. Get the new states and predicted probability distribution.\n",
        "4. sample a char from the predicted probability distribution\n",
        "5. take the sampled char and the new states as input and repeat the process (stop if reach the [stop] sign \"\\n\")."
      ]
    },
    {
      "cell_type": "code",
      "metadata": {
        "id": "ntAVpV-Ig2oJ"
      },
      "source": [
        "# Reverse-lookup token index to decode sequences back to something readable.\n",
        "reverse_input_char_index = dict((i, char) for char, i in input_token_index.items())\n",
        "reverse_target_char_index = dict((i, char) for char, i in target_token_index.items())"
      ],
      "execution_count": 190,
      "outputs": []
    },
    {
      "cell_type": "code",
      "metadata": {
        "id": "AA8pjwlfg2oJ"
      },
      "source": [
        "def decode_sequence(input_seq):\n",
        "    states_value = encoder_model.predict(input_seq)\n",
        "\n",
        "    target_seq = numpy.zeros((1, 1, num_decoder_tokens))\n",
        "    target_seq[0, 0, target_token_index['\\t']] = 1.\n",
        "\n",
        "    stop_condition = False\n",
        "    decoded_sentence = ''\n",
        "    while not stop_condition:\n",
        "        output_tokens, h, c = decoder_model.predict([target_seq] + states_value)\n",
        "\n",
        "        # this line of code is greedy selection\n",
        "        # try to use multinomial sampling instead (with temperature)\n",
        "        sampled_token_index = numpy.argmax(output_tokens[0, -1, :])\n",
        "        \n",
        "        sampled_char = reverse_target_char_index[sampled_token_index]\n",
        "        decoded_sentence += sampled_char\n",
        "\n",
        "        if (sampled_char == '\\n' or\n",
        "           len(decoded_sentence) > max_decoder_seq_length):\n",
        "            stop_condition = True\n",
        "\n",
        "        target_seq = numpy.zeros((1, 1, num_decoder_tokens))\n",
        "        target_seq[0, 0, sampled_token_index] = 1.\n",
        "\n",
        "        states_value = [h, c]\n",
        "\n",
        "    return decoded_sentence\n"
      ],
      "execution_count": 191,
      "outputs": []
    },
    {
      "cell_type": "code",
      "metadata": {
        "colab": {
          "base_uri": "https://localhost:8080/"
        },
        "id": "XBiPwVKvg2oJ",
        "outputId": "4ad1d994-4ed7-4e95-a0fb-b7c1c0a90080"
      },
      "source": [
        "for seq_index in range(2100, 2120):\n",
        "    # Take one sequence (part of the training set)\n",
        "    # for trying out decoding.\n",
        "    input_seq = encoder_input_data[seq_index: seq_index + 1]\n",
        "    decoded_sentence = decode_sequence(input_seq)\n",
        "    print('-')\n",
        "    print('English:       ', input_texts[seq_index])\n",
        "    print('French (true): ', target_texts[seq_index][1:-1])\n",
        "    print('French (pred): ', decoded_sentence[0:-1])\n"
      ],
      "execution_count": 192,
      "outputs": [
        {
          "output_type": "stream",
          "text": [
            "-\n",
            "English:        just do it\n",
            "French (true):  faitesle tout simplement\n",
            "French (pred):  fais comme ju te fais\n",
            "-\n",
            "English:        just relax\n",
            "French (true):  detendezvous\n",
            "French (pred):  sugez plus petit\n",
            "-\n",
            "English:        just relax\n",
            "French (true):  detendstoi\n",
            "French (pred):  sugez plus petit\n",
            "-\n",
            "English:        keep it up\n",
            "French (true):  continuez comme ca\n",
            "French (pred):  gardele\n",
            "-\n",
            "English:        keep it up\n",
            "French (true):  continuez comme ca\n",
            "French (pred):  gardele\n",
            "-\n",
            "English:        keep it up\n",
            "French (true):  continue comme ca\n",
            "French (pred):  gardele\n",
            "-\n",
            "English:        keep quiet\n",
            "French (true):  reste tranquille\n",
            "French (pred):  reste  concentrees\n",
            "-\n",
            "English:        keep quiet\n",
            "French (true):  restez tranquille\n",
            "French (pred):  reste  concentrees\n",
            "-\n",
            "English:        keep quiet\n",
            "French (true):  reste tranquille\n",
            "French (pred):  reste  concentrees\n",
            "-\n",
            "English:        keep quiet\n",
            "French (true):  restez tranquille\n",
            "French (pred):  reste  concentrees\n",
            "-\n",
            "English:        keep quiet\n",
            "French (true):  restez tranquilles\n",
            "French (pred):  reste  concentrees\n",
            "-\n",
            "English:        keep quiet\n",
            "French (true):  reste tranquille\n",
            "French (pred):  reste  concentrees\n",
            "-\n",
            "English:        keep quiet\n",
            "French (true):  restez tranquille\n",
            "French (pred):  reste  concentrees\n",
            "-\n",
            "English:        keep quiet\n",
            "French (true):  taisezvous\n",
            "French (pred):  reste  concentrees\n",
            "-\n",
            "English:        keep still\n",
            "French (true):  reste tranquille\n",
            "French (pred):  continue a denser\n",
            "-\n",
            "English:        keep still\n",
            "French (true):  restez tranquille\n",
            "French (pred):  continue a denser\n",
            "-\n",
            "English:        let tom go\n",
            "French (true):  laissez tom partir\n",
            "French (pred):  laisse tom partir\n",
            "-\n",
            "English:        let tom go\n",
            "French (true):  laisse tom partir\n",
            "French (pred):  laisse tom partir\n",
            "-\n",
            "English:        let tom in\n",
            "French (true):  faites entrer tom\n",
            "French (pred):  laisse tom partir\n",
            "-\n",
            "English:        let tom in\n",
            "French (true):  fais entrer tom\n",
            "French (pred):  laisse tom partir\n"
          ],
          "name": "stdout"
        }
      ]
    },
    {
      "cell_type": "markdown",
      "metadata": {
        "id": "r_X2HUyhg2oK"
      },
      "source": [
        "### 4.2. Translate an English sentence to the target language\n",
        "\n",
        "1. Tokenization\n",
        "2. One-hot encode\n",
        "3. Translate"
      ]
    },
    {
      "cell_type": "code",
      "metadata": {
        "colab": {
          "base_uri": "https://localhost:8080/"
        },
        "id": "ndyXYzhog2oK",
        "outputId": "b4251e5d-becb-4c76-bfeb-3d68c744acf2"
      },
      "source": [
        "input_sentence = ['I love you']\n",
        "\n",
        "#text2sequences: return seqs_pad, tokenizer.word_index\n",
        "input_sequence, word_index = text2sequences(max_encoder_seq_length, input_sentence)\n",
        "input_x = onehot_encode(input_sequence, max_encoder_seq_length, num_encoder_tokens)\n",
        "\n",
        "translated_sentence = decode_sequence(input_x)\n",
        "\n",
        "print('source sentence is: ' + input_sentence[0])\n",
        "print('translated sentence is: ' + translated_sentence)"
      ],
      "execution_count": 210,
      "outputs": [
        {
          "output_type": "stream",
          "text": [
            "source sentence is: I love you\n",
            "translated sentence is: je suis en retard\n",
            "\n"
          ],
          "name": "stdout"
        }
      ]
    },
    {
      "cell_type": "markdown",
      "metadata": {
        "id": "SxEaeXhCg2oL"
      },
      "source": [
        "## 5. Evaluate the translation using BLEU score\n",
        "\n",
        "Reference: \n",
        "- https://machinelearningmastery.com/calculate-bleu-score-for-text-python/\n",
        "- https://en.wikipedia.org/wiki/BLEU\n",
        "\n",
        "\n",
        "**Hint:** \n",
        "\n",
        "- Randomly partition the dataset to training, validation, and test. \n",
        "\n",
        "- Evaluate the BLEU score using the test set. Report the average.\n",
        "\n",
        "- A reasonable BLEU score should be 0.1 ~ 0.5."
      ]
    },
    {
      "cell_type": "code",
      "metadata": {
        "id": "byTzdRmcg2oL"
      },
      "source": [
        ""
      ],
      "execution_count": null,
      "outputs": []
    }
  ]
}